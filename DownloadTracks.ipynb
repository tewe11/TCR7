{
 "cells": [
  {
   "cell_type": "code",
   "execution_count": 1,
   "metadata": {},
   "outputs": [],
   "source": [
    "import os\n",
    "import re\n",
    "from datetime import datetime\n",
    "from dateutil import parser\n",
    "import requests\n",
    "from lxml.etree import HTML as html\n",
    "import pandas as pd"
   ]
  },
  {
   "cell_type": "code",
   "execution_count": 2,
   "metadata": {},
   "outputs": [],
   "source": [
    "# URL template for accessing spot records\n",
    "SPOT_URL_TEMPL = 'http://trackleaders.com/spot/%s/%s.js'\n",
    "USER_AGENT = 'Mozilla/5.0 (Windows NT 6.1) AppleWebKit/537.36 (KHTML, like Gecko) Chrome/41.0.2228.0 Safari/537.36'\n",
    "def parse(s):\n",
    "    return parser.parse(s.replace('(EEST)',''))\n",
    "def getSpotData(race, racer_id):\n",
    "    spot_url = SPOT_URL_TEMPL% (race, racer_id)\n",
    "    spot_feed = requests.get(spot_url, headers={'User-Agent': USER_AGENT}).text\n",
    "    latlons=eval(spot_feed.split('LLarray = ')[1].split('; polyline')[0])\n",
    "    SPOT_TS_RE_TEMPL2 = 'received at:(.*?) <br'\n",
    "    timestamps = re.findall(SPOT_TS_RE_TEMPL2,\n",
    "                             spot_feed,\n",
    "                             re.MULTILINE)\n",
    "    timestamps=[parse(e) for e in timestamps]\n",
    "    return latlons,timestamps"
   ]
  },
  {
   "cell_type": "code",
   "execution_count": 3,
   "metadata": {},
   "outputs": [],
   "source": [
    "race = \"transconrace19\"\n",
    "racers = pd.read_pickle('racers.pkl')"
   ]
  },
  {
   "cell_type": "markdown",
   "metadata": {},
   "source": [
    "Make the output directories. The tracks combined with the timestamps are in the 'DATE directory. Timestamps are only available for the last 600 locations. The complete history without timestamps is in the DTAE/Tracks directory."
   ]
  },
  {
   "cell_type": "code",
   "execution_count": 4,
   "metadata": {},
   "outputs": [],
   "source": [
    "dirout = str(datetime.now().date())\n",
    "if not os.path.exists(dirout):\n",
    "    os.mkdir(dirout)\n",
    "if not os.path.exists(dirout+'/Tracks'):\n",
    "    os.mkdir(dirout+'/Tracks')    "
   ]
  },
  {
   "cell_type": "code",
   "execution_count": null,
   "metadata": {},
   "outputs": [],
   "source": [
    "for racer in racers['Name']:\n",
    "    try:\n",
    "        latlons,timestamps = getSpotData(race,racer);\n",
    "        pd.DataFrame({'LatLon': latlons[len(latlons)-len(timestamps):],'Timestamp':timestamps}).to_pickle(dirout+'/'+racer+'.pkl')\n",
    "        pd.DataFrame({'LatLon': latlons}).to_pickle(dirout+'/'+'Tracks/'+racer+'.pkl')\n",
    "    except:\n",
    "         print(racer)\n"
   ]
  },
  {
   "cell_type": "markdown",
   "metadata": {},
   "source": [
    "Just retry the names which are printed. The eror is always some connection problem (time out,...)"
   ]
  },
  {
   "cell_type": "code",
   "execution_count": null,
   "metadata": {},
   "outputs": [],
   "source": [
    "racer = 'Chris_Bower'\n",
    "latlons,timestamps = getSpotData(race,racer);\n",
    "pd.DataFrame({'LatLon': latlons[len(latlons)-len(timestamps):],'Timestamp':timestamps}).to_pickle(dirout+'/'+racer+'.pkl')"
   ]
  }
 ],
 "metadata": {
  "kernelspec": {
   "display_name": "Python 3",
   "language": "python",
   "name": "python3"
  },
  "language_info": {
   "codemirror_mode": {
    "name": "ipython",
    "version": 3
   },
   "file_extension": ".py",
   "mimetype": "text/x-python",
   "name": "python",
   "nbconvert_exporter": "python",
   "pygments_lexer": "ipython3",
   "version": "3.7.2"
  }
 },
 "nbformat": 4,
 "nbformat_minor": 2
}
