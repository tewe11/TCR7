{
 "cells": [
  {
   "cell_type": "code",
   "execution_count": 1,
   "metadata": {},
   "outputs": [],
   "source": [
    "import os\n",
    "import re\n",
    "from datetime import datetime\n",
    "from dateutil import parser\n",
    "import requests\n",
    "from lxml.etree import HTML as html\n",
    "import pandas as pd "
   ]
  },
  {
   "cell_type": "markdown",
   "metadata": {},
   "source": [
    "The location is twice in the retrieved JavaScript: 1. in the popup information and 2. in the polyline at the end. There might be more udsable data in the script.\n",
    "I started from the Python package 'Get-Back-on-Your-Bike', see https://github.com/ychen306/get-back-on-your-bike "
   ]
  },
  {
   "cell_type": "code",
   "execution_count": 2,
   "metadata": {},
   "outputs": [],
   "source": [
    "# URL template for accessing spot records\n",
    "SPOT_URL_TEMPL = 'http://trackleaders.com/spot/%s/%s.js'\n",
    "USER_AGENT = 'Mozilla/5.0 (Windows NT 6.1) AppleWebKit/537.36 (KHTML, like Gecko) Chrome/41.0.2228.0 Safari/537.36'\n",
    "def parse(s):\n",
    "    return parser.parse(s.replace('(EEST)',''))\n",
    "def getSpotData(race, racer_id):\n",
    "    spot_url = SPOT_URL_TEMPL% (race, racer_id)\n",
    "    spot_feed = requests.get(spot_url, headers={'User-Agent': USER_AGENT}).text\n",
    "    latlons=eval(spot_feed.split('LLarray = ')[1].split('; polyline')[0])\n",
    "    SPOT_TS_RE_TEMPL2 = 'received at:(.*?) <br'\n",
    "    timestamps = re.findall(SPOT_TS_RE_TEMPL2,\n",
    "                             spot_feed,\n",
    "                             re.MULTILINE)\n",
    "    timestamps=[parse(e) for e in timestamps]\n",
    "    return latlons,timestamps"
   ]
  },
  {
   "cell_type": "code",
   "execution_count": 3,
   "metadata": {},
   "outputs": [],
   "source": [
    "race = \"transconrace19\"\n",
    "racers = pd.read_pickle('racers.pkl')"
   ]
  },
  {
   "cell_type": "code",
   "execution_count": 4,
   "metadata": {},
   "outputs": [],
   "source": [
    "dirout = str(datetime.now().date())\n",
    "if not os.path.exists(dirout):\n",
    "    os.mkdir(dirout)    "
   ]
  },
  {
   "cell_type": "markdown",
   "metadata": {},
   "source": [
    "Write the LatLons and the timestamp to a subdirectory"
   ]
  },
  {
   "cell_type": "code",
   "execution_count": null,
   "metadata": {},
   "outputs": [
    {
     "name": "stdout",
     "output_type": "stream",
     "text": [
      "Pawel_Pulawski\n",
      "Bellamoli_Nicola\n",
      "Jurgen_Mikusch\n",
      "Frank_Proud\n",
      "matthew_falconer\n",
      "Fabian_Rabe\n",
      "Ben_Davies\n",
      "Stephane_OUAJA\n",
      "Levente_Bagoly\n",
      "Matthieu_Lifschitz\n",
      "Daniel_Brayson\n",
      "Peter_Boynton\n",
      "Sam_Thomas\n",
      "Nick_Spencer_Vellacott\n",
      "Mark_Charles\n",
      "Mike_Cannon\n",
      "Thomas_Scherer\n",
      "Lulu_Drinkwater\n",
      "Felix_Newman\n",
      "George_Callery\n",
      "Patrick_Tschellnig\n",
      "Laurent_Tesch\n",
      "herve_samson\n",
      "Pauline_Wassermann\n",
      "Nico_Malet\n",
      "T__Z___Trindade\n",
      "clement_jacqueline\n",
      "Brendan_Cassidy\n",
      "Michael_Warren\n",
      "Dennis_Wolckenhauer\n",
      "Richard_Bent\n",
      "Pontus_Johansson\n",
      "Aidan_Allcock\n",
      "David_Withers\n",
      "rodolph_rainteau\n",
      "THEO_DANIEL\n"
     ]
    }
   ],
   "source": [
    "for racer in racers['Name']:\n",
    "    try:\n",
    "        latlons,timestamps = getSpotData(race,racer);\n",
    "        pd.DataFrame({'LatLon': latlons,'Timestamp':timestamps}).to_pickle(dirout+'/'+racer+'.pkl')\n",
    "    except:\n",
    "         print(racer)   "
   ]
  },
  {
   "cell_type": "markdown",
   "metadata": {},
   "source": [
    "Beginning with the 2019/07/31 the location data and the timestamp are getting out of sync."
   ]
  },
  {
   "cell_type": "code",
   "execution_count": null,
   "metadata": {},
   "outputs": [],
   "source": [
    "racer = 'Ben_Davies'\n",
    "latlons,timestamps = getSpotData(race,'Ben_Davies');\n",
    "len(latlons),len(timestamps)"
   ]
  }
 ],
 "metadata": {
  "kernelspec": {
   "display_name": "Python 3",
   "language": "python",
   "name": "python3"
  },
  "language_info": {
   "codemirror_mode": {
    "name": "ipython",
    "version": 3
   },
   "file_extension": ".py",
   "mimetype": "text/x-python",
   "name": "python",
   "nbconvert_exporter": "python",
   "pygments_lexer": "ipython3",
   "version": "3.7.2"
  }
 },
 "nbformat": 4,
 "nbformat_minor": 2
}
