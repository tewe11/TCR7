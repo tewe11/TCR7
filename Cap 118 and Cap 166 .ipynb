{
 "cells": [
  {
   "cell_type": "markdown",
   "metadata": {},
   "source": [
    "nfringement/concern: Riders Cap 118 and Cap 166 rising together\n",
    "Time period: Since 01:11:44 AM (EEST) 08/02/19\n",
    "Location: Longega\n",
    "GPS Co-Ordinates (DD system): 46.714433, 11.889570\n",
    "Tracking information from Trackleaders:"
   ]
  },
  {
   "cell_type": "code",
   "execution_count": null,
   "metadata": {},
   "outputs": [],
   "source": [
    "import requests\n",
    "import pandas as pd \n",
    "import folium\n",
    "from folium import FeatureGroup, features, CircleMarker\n",
    "from matplotlib import colors as mcolors\n",
    "import matplotlib\n",
    "import matplotlib.pyplot as mp\n",
    "from haversine import haversine\n",
    "import numpy as np\n",
    "from dateutil import relativedelta\n",
    "from math import radians, sin, cos, asin, atan2, degrees"
   ]
  },
  {
   "cell_type": "code",
   "execution_count": null,
   "metadata": {},
   "outputs": [],
   "source": [
    "def calculate_bearing(point1, point2):\n",
    "        lat1 = point1[0]\n",
    "        lon1 = point1[1]\n",
    "\n",
    "        lat2 = point2[0]\n",
    "        lon2 = point2[1]\n",
    "        lat1, lon1, lat2, lon2 = map(radians, (lat1, lon1, lat2, lon2))\n",
    "        y = sin(lon2-lon1)*cos(lat2);\n",
    "        x = cos(lat1)*sin(lat2) - sin(lat1)*cos(lat2)*cos(lon2-lon1);\n",
    "        bearing = degrees(atan2(y, x))\n",
    "        return bearing"
   ]
  },
  {
   "cell_type": "code",
   "execution_count": null,
   "metadata": {},
   "outputs": [],
   "source": [
    "def calculate_coordinates(departure_point, bearing, distance):\n",
    "        R = earth_radius = 6371\n",
    "        d = distance\n",
    "        lat1 = radians(departure_point[0]) #Current lat point converted to radians\n",
    "        lon1 = radians(departure_point[1]) #Current long point converted to radians\n",
    "        bearing = radians(bearing)\n",
    "        lat2 = asin( sin(lat1)*cos(d/R) + cos(lat1)*sin(d/R)*cos(bearing))\n",
    "        lon2 = lon1 + atan2(sin(bearing)*sin(d/R)*cos(lat1), cos(d/R)-sin(lat1)*sin(lat2))\n",
    "        lat2 = degrees(lat2)\n",
    "        lon2 = degrees(lon2)\n",
    "        return (round(lat2, 4), round(lon2, 4))"
   ]
  },
  {
   "cell_type": "code",
   "execution_count": null,
   "metadata": {},
   "outputs": [],
   "source": [
    "mypath='./2019-08-10/'"
   ]
  },
  {
   "cell_type": "code",
   "execution_count": null,
   "metadata": {},
   "outputs": [],
   "source": [
    "racers = pd.read_pickle('racers.pkl')"
   ]
  },
  {
   "cell_type": "code",
   "execution_count": null,
   "metadata": {},
   "outputs": [],
   "source": [
    "racers[racers.Bib.isin(['118','166'])]"
   ]
  },
  {
   "cell_type": "code",
   "execution_count": null,
   "metadata": {},
   "outputs": [],
   "source": [
    "names = list(racers[racers.Bib.isin(['118','166'])].Name.values)\n",
    "names"
   ]
  },
  {
   "cell_type": "code",
   "execution_count": null,
   "metadata": {},
   "outputs": [],
   "source": [
    "route={}\n",
    "for racer in names:\n",
    "    route[racer] = [[i,l,t] for i,(l,t) in enumerate(pd.read_pickle(mypath+racer+'.pkl').values.tolist())]"
   ]
  },
  {
   "cell_type": "code",
   "execution_count": null,
   "metadata": {},
   "outputs": [],
   "source": [
    "def popup(name,t):\n",
    "    folium.Popup(name+'\\n'+str(t))"
   ]
  },
  {
   "cell_type": "code",
   "execution_count": null,
   "metadata": {},
   "outputs": [],
   "source": [
    "m = folium.Map(tiles='OpenStreetMap')\n",
    "[CircleMarker(l,popup=popup('166',t),radius=1).add_to(m) for i,l,t in route['Lorenza_Walker']]\n",
    "[CircleMarker(l,color='red',popup=popup('118',t),radius=1).add_to(m) for i,l,t in route['Ghirtoi_Daniel']]\n",
    "m.fit_bounds(m.get_bounds())\n",
    "m"
   ]
  },
  {
   "cell_type": "code",
   "execution_count": null,
   "metadata": {},
   "outputs": [],
   "source": [
    "v0 =[(haversine(l,l1)/(t1-t).seconds*3600) for (i,l,t),(i1,l1,t1) in zip(route['Lorenza_Walker'][:-2],route['Lorenza_Walker'][1:])]\n",
    "v1 =[(haversine(l,l1)/(t1-t).seconds*3600) for (i,l,t),(i1,l1,t1) in zip(route['Ghirtoi_Daniel'][:-2],route['Ghirtoi_Daniel'][1:])]"
   ]
  },
  {
   "cell_type": "code",
   "execution_count": null,
   "metadata": {},
   "outputs": [],
   "source": []
  },
  {
   "cell_type": "code",
   "execution_count": null,
   "metadata": {},
   "outputs": [],
   "source": [
    "dates0 = matplotlib.dates.date2num([t for (i,l,t) in route['Lorenza_Walker'][2:]])\n",
    "dates1 = matplotlib.dates.date2num([t for (i,l,t) in route['Ghirtoi_Daniel'][2:]])"
   ]
  },
  {
   "cell_type": "code",
   "execution_count": null,
   "metadata": {},
   "outputs": [],
   "source": [
    "fig= mp.figure(figsize=(12,3))\n",
    "axes= fig.add_axes([0.1,0.1,0.8,0.8])\n",
    "axes.plot_date(dates0,v0,markersize=2)\n",
    "axes.plot_date(dates1,v1,markersize=2)\n",
    "mp.show()"
   ]
  },
  {
   "cell_type": "code",
   "execution_count": null,
   "metadata": {},
   "outputs": [],
   "source": [
    "\n",
    "t0 = [t for (j,l,t) in route['Lorenza_Walker']]\n",
    "l0 = [l for (j,l,t) in route['Lorenza_Walker']]\n",
    "\n",
    "t1 = [t1 for (j,l1,t1) in route['Ghirtoi_Daniel']]\n",
    "l1 = [l1 for (j,l1,t1) in route['Ghirtoi_Daniel']]"
   ]
  },
  {
   "cell_type": "code",
   "execution_count": null,
   "metadata": {},
   "outputs": [],
   "source": [
    "ii =[]\n",
    "for i,t in enumerate(t0[:-10]):\n",
    "    j=np.argmin([abs(t-t1) for t1 in t1])\n",
    "    if (t-t1[j]).seconds > 0:\n",
    "        d = haversine(l0[i],l0[i+1])/(t0[i+1]-t).seconds*(t-t1[j]).seconds # approx speed and estimate distance\n",
    "    else:\n",
    "        if i==0:\n",
    "            continue\n",
    "        d = haversine(l0[i],l0[i-1])(t-t[i-1]).seconds*(t-t1[j]).seconds # approx speed and estimate distance\n",
    "        b =calculate_bearing(l0[i],l1[j])\n",
    "    print(haversine(l0[i],l1[j]), t, t1[j],(t-t1[j]).seconds,d, haversine(calculate_coordinates(l0[i],b,d),l1[j]))\n",
    "#    ii.append(np.argmin([abs(t-t1) for (j,l1,t1) in route['Ghirtoi_Daniel']]))                "
   ]
  },
  {
   "cell_type": "code",
   "execution_count": null,
   "metadata": {},
   "outputs": [],
   "source": [
    "t0 = [t for (j,l,t) in route['Lorenza_Walker']]\n",
    "l0 = [l for (j,l,t) in route['Lorenza_Walker']]\n",
    "\n",
    "t1 = [t1 for (j,l1,t1) in route['Lorenza_Walker']]\n",
    "l1 = [l1 for (j,l1,t1) in route['Lorenza_Walker']]"
   ]
  },
  {
   "cell_type": "code",
   "execution_count": null,
   "metadata": {},
   "outputs": [],
   "source": [
    "for i,t in enumerate(t0[:-10]):\n",
    "    j=np.argmin([abs(t-t1) for t1 in t1])\n",
    "    if (t-t1[j]).seconds > 0:\n",
    "        d = haversine(l0[i],l0[i+1])/(t0[i+1]-t).seconds*(t-t1[j]).seconds # approx speed and estimate distance\n",
    "    else:\n",
    "        if i==0:\n",
    "            continue\n",
    "        d = haversine(l0[i],l0[i-1])/(t-t0[i-1]).seconds*(t-t1[j]).seconds # approx speed and estimate distance\n",
    "        b =calculate_bearing(l0[i],l1[j])\n",
    "    print(haversine(l0[i],l1[j]), t, t1[j],(t-t1[j]).seconds,d, haversine(calculate_coordinates(l0[i],b,d),l1[j]))"
   ]
  },
  {
   "cell_type": "code",
   "execution_count": null,
   "metadata": {},
   "outputs": [],
   "source": [
    "route['Lorenza_Walker'][-2:]"
   ]
  },
  {
   "cell_type": "code",
   "execution_count": null,
   "metadata": {},
   "outputs": [],
   "source": [
    "route['Ghirtoi_Daniel'][-2:]"
   ]
  },
  {
   "cell_type": "code",
   "execution_count": null,
   "metadata": {},
   "outputs": [],
   "source": [
    "[point1,point2] =[r[1] for r in  route['Ghirtoi_Daniel'][-2:]]"
   ]
  },
  {
   "cell_type": "code",
   "execution_count": null,
   "metadata": {},
   "outputs": [],
   "source": [
    "calculate_bearing(point1, point2)"
   ]
  },
  {
   "cell_type": "code",
   "execution_count": null,
   "metadata": {},
   "outputs": [],
   "source": [
    "[t1,t2] =[r[2] for r in  route['Ghirtoi_Daniel'][-2:]]"
   ]
  },
  {
   "cell_type": "code",
   "execution_count": null,
   "metadata": {},
   "outputs": [],
   "source": [
    "bearing = calculate_bearing(point1,point2)\n",
    "bearing"
   ]
  },
  {
   "cell_type": "code",
   "execution_count": null,
   "metadata": {},
   "outputs": [],
   "source": [
    "np = calculate_coordinates(point1,bearing,float((t2-t1).seconds)/3600)\n",
    "np"
   ]
  },
  {
   "cell_type": "code",
   "execution_count": null,
   "metadata": {},
   "outputs": [],
   "source": [
    "haversine(point2,np)"
   ]
  },
  {
   "cell_type": "code",
   "execution_count": null,
   "metadata": {},
   "outputs": [],
   "source": [
    "[t1a,t2a] =[r[2] for r in  route['Lorenza_Walker'][-2:]]"
   ]
  },
  {
   "cell_type": "code",
   "execution_count": null,
   "metadata": {},
   "outputs": [],
   "source": [
    "calculate_coordinates(point1,bearing,haversine(point1,point2))"
   ]
  },
  {
   "cell_type": "code",
   "execution_count": null,
   "metadata": {},
   "outputs": [],
   "source": [
    "haversine(point1,np)"
   ]
  },
  {
   "cell_type": "code",
   "execution_count": null,
   "metadata": {},
   "outputs": [],
   "source": [
    "haversine(point1,point2)"
   ]
  },
  {
   "cell_type": "code",
   "execution_count": null,
   "metadata": {},
   "outputs": [],
   "source": []
  }
 ],
 "metadata": {
  "kernelspec": {
   "display_name": "Python 3",
   "language": "python",
   "name": "python3"
  },
  "language_info": {
   "codemirror_mode": {
    "name": "ipython",
    "version": 3
   },
   "file_extension": ".py",
   "mimetype": "text/x-python",
   "name": "python",
   "nbconvert_exporter": "python",
   "pygments_lexer": "ipython3",
   "version": "3.7.2"
  }
 },
 "nbformat": 4,
 "nbformat_minor": 2
}
