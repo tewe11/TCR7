{
 "cells": [
  {
   "cell_type": "code",
   "execution_count": null,
   "metadata": {},
   "outputs": [],
   "source": [
    "import requests\n",
    "import pandas as pd \n",
    "import folium\n",
    "from folium import FeatureGroup, features, CircleMarker\n",
    "import numpy as np\n",
    "from matplotlib import colors as mcolors\n",
    "from haversine import haversine\n",
    "from folium import IFrame\n",
    "from IPython.display import Markdown, display\n",
    "from math import radians, sin, cos, asin, atan2, degrees\n"
   ]
  },
  {
   "cell_type": "code",
   "execution_count": null,
   "metadata": {},
   "outputs": [],
   "source": [
    "def calculate_bearing(point1, point2):\n",
    "        lat1 = point1[0]\n",
    "        lon1 = point1[1]\n",
    "\n",
    "        lat2 = point2[0]\n",
    "        lon2 = point2[1]\n",
    "        lat1, lon1, lat2, lon2 = map(radians, (lat1, lon1, lat2, lon2))\n",
    "        y = sin(lon2-lon1)*cos(lat2);\n",
    "        x = cos(lat1)*sin(lat2) - sin(lat1)*cos(lat2)*cos(lon2-lon1);\n",
    "        bearing = degrees(atan2(y, x))\n",
    "        return bearing"
   ]
  },
  {
   "cell_type": "code",
   "execution_count": null,
   "metadata": {},
   "outputs": [],
   "source": [
    "def calculate_coordinates(departure_point, bearing, distance):\n",
    "        R = earth_radius = 6371\n",
    "        d = distance\n",
    "        lat1 = radians(departure_point[0]) #Current lat point converted to radians\n",
    "        lon1 = radians(departure_point[1]) #Current long point converted to radians\n",
    "        bearing = radians(bearing)\n",
    "        lat2 = asin( sin(lat1)*cos(d/R) + cos(lat1)*sin(d/R)*cos(bearing))\n",
    "        lon2 = lon1 + atan2(sin(bearing)*sin(d/R)*cos(lat1), cos(d/R)-sin(lat1)*sin(lat2))\n",
    "        lat2 = degrees(lat2)\n",
    "        lon2 = degrees(lon2)\n",
    "        return (round(lat2, 4), round(lon2, 4)) "
   ]
  },
  {
   "cell_type": "code",
   "execution_count": null,
   "metadata": {},
   "outputs": [],
   "source": [
    "p1,p2 = tunnelnodes[8][0],tunnelnodes[8][-1]\n",
    "b = calculate_bearing(p1,p2)\n",
    "b"
   ]
  },
  {
   "cell_type": "code",
   "execution_count": null,
   "metadata": {},
   "outputs": [],
   "source": [
    "p1"
   ]
  },
  {
   "cell_type": "code",
   "execution_count": null,
   "metadata": {},
   "outputs": [],
   "source": [
    "calculate_coordinates(p1, 90, 2)"
   ]
  },
  {
   "cell_type": "code",
   "execution_count": null,
   "metadata": {},
   "outputs": [],
   "source": [
    "m = folium.Map(tiles='OpenStreetMap')\n",
    "CircleMarker(p1,color='red').add_to(m)\n",
    "CircleMarker(p2,color='red').add_to(m)\n",
    "folium.PolyLine([p2,calculate_coordinates(p2,b+90, 0.5),calculate_coordinates(p1,b+90, 0.5),\n",
    "                 p1,calculate_coordinates(p1,b-90, 0.5),\n",
    "                 calculate_coordinates(p2,b-90, 0.5),p2],color='green',radius=2).add_to(m)\n",
    "m.fit_bounds(m.get_bounds())\n",
    "m"
   ]
  },
  {
   "cell_type": "code",
   "execution_count": null,
   "metadata": {},
   "outputs": [],
   "source": [
    "query=\\\n",
    "\"\"\"\n",
    "[out:json];\n",
    "way\n",
    "  [highway!~\"(pedestrian|path|footway|steps|via_ferrata|service|construction|unclassified)\"]\n",
    "  [tunnel][bicycle=no]\n",
    "  (46.37346430137335,11.211547851562498,47.184112659842015,12.60955810546875);\n",
    "(._;>;);\n",
    "out;\"\"\""
   ]
  },
  {
   "cell_type": "code",
   "execution_count": null,
   "metadata": {},
   "outputs": [],
   "source": [
    "query=\\\n",
    "\"\"\"\n",
    "[out:json];\n",
    "way\n",
    "  [highway!~\"(pedestrian|path|footway|steps|via_ferrata|service|construction|unclassified)\"]\n",
    "  [tunnel][ref=SS49] (46.37346430137335,11.211547851562498,47.184112659842015,12.60955810546875);\n",
    "(._;>;);\n",
    "out;\"\"\""
   ]
  },
  {
   "cell_type": "code",
   "execution_count": null,
   "metadata": {},
   "outputs": [],
   "source": [
    "r = requests.get('http://overpass-api.de/api/interpreter?data='+query)\n",
    "print(r.status_code)\n",
    "ores = r.json()"
   ]
  },
  {
   "cell_type": "code",
   "execution_count": null,
   "metadata": {},
   "outputs": [],
   "source": [
    "tunnels =[e for e in ores['elements'] if e['type']=='way']\n",
    "nodes = [e for e in ores['elements'] if e['type']=='node']\n",
    "len(tunnels)"
   ]
  },
  {
   "cell_type": "code",
   "execution_count": null,
   "metadata": {},
   "outputs": [],
   "source": [
    "tunnelnodes = []\n",
    "for tunnel in tunnels:\n",
    "    nt = []\n",
    "    for nodeid in tunnel['nodes']:\n",
    "        for node in nodes:\n",
    "            if node['id'] == nodeid:\n",
    "                nt.append([node['lat'],node['lon']])\n",
    "    tunnelnodes.append(nt)"
   ]
  },
  {
   "cell_type": "code",
   "execution_count": null,
   "metadata": {},
   "outputs": [],
   "source": [
    "m = folium.Map(tiles='OpenStreetMap')\n",
    "for i,tunnel in enumerate(tunnels):\n",
    "    folium.PolyLine(tunnelnodes[i],color='red',popup=str(i)).add_to(m)\n",
    "folium.Marker([46.732016, 12.198863]).add_to(m)    \n",
    "m.fit_bounds(m.get_bounds())\n",
    "m"
   ]
  },
  {
   "cell_type": "code",
   "execution_count": null,
   "metadata": {},
   "outputs": [],
   "source": [
    "tunnels[8]"
   ]
  },
  {
   "cell_type": "markdown",
   "metadata": {},
   "source": [
    "## All forbidden Tunnels"
   ]
  },
  {
   "cell_type": "code",
   "execution_count": null,
   "metadata": {},
   "outputs": [],
   "source": [
    "m = folium.Map(tiles='OpenStreetMap')\n",
    "for i,tunnel in enumerate(tunnels):\n",
    "    folium.PolyLine(tunnelnodes[i],color='red').add_to(m)\n",
    "folium.Marker([46.732016, 12.198863]).add_to(m)    \n",
    "m.fit_bounds(m.get_bounds())\n",
    "m"
   ]
  },
  {
   "cell_type": "code",
   "execution_count": null,
   "metadata": {},
   "outputs": [],
   "source": [
    "mypath='./2019-08-05/Tracks/'"
   ]
  },
  {
   "cell_type": "code",
   "execution_count": null,
   "metadata": {},
   "outputs": [],
   "source": [
    "racers = pd.read_pickle('racers.pkl')"
   ]
  },
  {
   "cell_type": "code",
   "execution_count": null,
   "metadata": {},
   "outputs": [],
   "source": [
    "route={}\n",
    "for racer in racers['Name']:\n",
    "    try:\n",
    "        ll =[l[0] for i,l in enumerate(pd.read_pickle(mypath+racer+'.pkl').values.tolist())]\n",
    "        route[racer] = ll\n",
    "    except:\n",
    "        print (racer)"
   ]
  },
  {
   "cell_type": "code",
   "execution_count": null,
   "metadata": {},
   "outputs": [],
   "source": [
    "mycolors = list(mcolors.cnames.keys())"
   ]
  },
  {
   "cell_type": "code",
   "execution_count": null,
   "metadata": {},
   "outputs": [],
   "source": [
    "tunnellength = [sum(list(map(lambda x,y:haversine(x,y),tunnel[1:],tunnel[:-2]))) for tunnel in tunnelnodes]"
   ]
  },
  {
   "cell_type": "code",
   "execution_count": null,
   "metadata": {},
   "outputs": [],
   "source": [
    "bg =[]\n",
    "for k,racer in racers.iterrows():\n",
    "    try:\n",
    "        if racer['Bib']=='CC1' or racer['Bib']=='CC2':\n",
    "            continue\n",
    "        for i,l in enumerate(route[racer['Name']]):\n",
    "            for j,tunnel in enumerate(tunnelnodes):\n",
    "                d = haversine(l,tunnel[0],'km')\n",
    "                if d < 2:\n",
    "                    bg.append([j,d,l,i,racer['Name'],racer['Bib']])\n",
    "                d = haversine(l,tunnel[-1],'km')                    \n",
    "                if d < 2:\n",
    "                    bg.append([j,d,l,i,racer['Name'],racer['Bib']])\n",
    "    except:\n",
    "        print(racer['Name'])"
   ]
  },
  {
   "cell_type": "markdown",
   "metadata": {},
   "source": [
    "## Forbidden tunnels where riders came close"
   ]
  },
  {
   "cell_type": "code",
   "execution_count": null,
   "metadata": {},
   "outputs": [],
   "source": [
    "bgt =list(set([e[0] for e in bg]))\n",
    "bgt"
   ]
  },
  {
   "cell_type": "code",
   "execution_count": null,
   "metadata": {},
   "outputs": [],
   "source": [
    "def popup(t,show=False):\n",
    "    return folium.Popup('%s' % (t),show=show)"
   ]
  },
  {
   "cell_type": "code",
   "execution_count": null,
   "metadata": {},
   "outputs": [],
   "source": [
    "[[i,tunnels[i]['tags']['ref']] for i in bgt if 'ref' in tunnels[i]['tags']]"
   ]
  },
  {
   "cell_type": "code",
   "execution_count": null,
   "metadata": {},
   "outputs": [],
   "source": [
    "m = folium.Map(tiles='OpenStreetMap')\n",
    "for i in bgt:\n",
    "    name = tunnels[i]['tags']['name'] if 'name' in tunnels[i]['tags'] else ''\n",
    "    folium.PolyLine(tunnelnodes[i],color='red',popup=popup(name)).add_to(m)\n",
    "m.fit_bounds(m.get_bounds())\n",
    "m"
   ]
  },
  {
   "cell_type": "code",
   "execution_count": null,
   "metadata": {},
   "outputs": [],
   "source": [
    "ibgt = bgt[0]\n",
    "display(Markdown('# '+tunnels[ibgt]['tags']['name']+' '+tunnels[ibgt]['tags']['ref']))"
   ]
  },
  {
   "cell_type": "code",
   "execution_count": null,
   "metadata": {},
   "outputs": [],
   "source": [
    "m = folium.Map(tiles='OpenStreetMap')\n",
    "folium.PolyLine(tunnelnodes[ibgt],color='red',popup=popup('Tunnel')).add_to(m)\n",
    "CircleMarker(tunnelnodes[ibgt][0],radius=2,color='purple',fillcolor='purple').add_to(m)\n",
    "CircleMarker(tunnelnodes[ibgt][-1],radius=2,color='purple',fillcolor='purple').add_to(m)\n",
    "m.fit_bounds(m.get_bounds())\n",
    "names = list(set([e[4] for e in bg if e[0]==ibgt and e[0]==ibgt]))\n",
    "for i,name in enumerate(names):\n",
    "    pt = sorted([e[3] for e in bg if e[0]==ibgt and e[4]==name])\n",
    "    ll = route[name][pt[0]:pt[-1]]\n",
    "    [CircleMarker(l,color=mycolors[i],radius=2,popup=popup(name)).add_to(m) for l in ll]\n",
    "    #folium.PolyLine(ll,color=mycolors[i],tooltip=name,highlight_function=highlight_function).add_to(m)\n",
    "m"
   ]
  },
  {
   "cell_type": "markdown",
   "metadata": {},
   "source": [
    "Josh Murphy, Yiqun_Fu and Purim_Sirimachan look suspicious"
   ]
  },
  {
   "cell_type": "code",
   "execution_count": null,
   "metadata": {},
   "outputs": [],
   "source": [
    "name = 'Josh_Murphy'\n",
    "pt = sorted([e[3] for e in bg if e[0]==ibgt and e[4]==name])\n",
    "ll = route[name][pt[0]-1:pt[-1]+1]\n",
    "m = folium.Map(tiles='OpenStreetMap')\n",
    "folium.PolyLine(tunnelnodes[1],color='red',popup=popup('Tunnel')).add_to(m)\n",
    "CircleMarker(tunnelnodes[1][0],radius=2,color='purple',fillcolor='purple').add_to(m)\n",
    "CircleMarker(tunnelnodes[1][-1],radius=2,color='purple',fillcolor='purple').add_to(m)\n",
    "\n",
    "[CircleMarker(l,popup=popup(name)).add_to(m) for l in ll]\n",
    "folium.PolyLine(ll).add_to(m)\n",
    "m.fit_bounds(m.get_bounds())\n",
    "m"
   ]
  },
  {
   "cell_type": "code",
   "execution_count": null,
   "metadata": {},
   "outputs": [],
   "source": [
    "name = 'Yiqun_Fu'\n",
    "pt = sorted([e[3] for e in bg if e[0]==ibgt and e[4]==name])\n",
    "ll = route[name][pt[0]-1:pt[-4]]\n",
    "m = folium.Map(tiles='OpenStreetMap')\n",
    "folium.PolyLine(tunnelnodes[1],color='red',popup=popup('Tunnel')).add_to(m)\n",
    "CircleMarker(tunnelnodes[1][0],radius=2,color='purple',fillcolor='purple').add_to(m)\n",
    "CircleMarker(tunnelnodes[1][-1],radius=2,color='purple',fillcolor='purple').add_to(m)\n",
    "[CircleMarker(l,popup=popup(name)).add_to(m) for l in ll]\n",
    "folium.PolyLine(ll).add_to(m)\n",
    "m.fit_bounds(m.get_bounds())\n",
    "m"
   ]
  },
  {
   "cell_type": "code",
   "execution_count": null,
   "metadata": {},
   "outputs": [],
   "source": [
    "name = 'Purim_Sirimachan'\n",
    "pt = sorted([e[3] for e in bg if e[0]==ibgt and e[4]==name])\n",
    "ll = route[name][pt[0]-1:pt[-1]]\n",
    "m = folium.Map(tiles='OpenStreetMap')\n",
    "folium.PolyLine(tunnelnodes[1],color='red',popup=popup('Tunnel')).add_to(m)\n",
    "CircleMarker(tunnelnodes[1][0],radius=2,color='purple',fillcolor='purple').add_to(m)\n",
    "CircleMarker(tunnelnodes[1][-1],radius=2,color='purple',fillcolor='purple').add_to(m)\n",
    "[CircleMarker(l,popup=popup(name)).add_to(m) for l in ll]\n",
    "folium.PolyLine(ll).add_to(m)\n",
    "m.fit_bounds(m.get_bounds())\n",
    "m"
   ]
  },
  {
   "cell_type": "code",
   "execution_count": null,
   "metadata": {},
   "outputs": [],
   "source": [
    "ibgt = bgt[1]\n",
    "display(Markdown('# '+tunnels[ibgt]['tags']['name']+' '+tunnels[ibgt]['tags']['ref'] ))"
   ]
  },
  {
   "cell_type": "code",
   "execution_count": null,
   "metadata": {},
   "outputs": [],
   "source": [
    "m = folium.Map(tiles='OpenStreetMap')\n",
    "folium.PolyLine(tunnelnodes[ibgt],color='red',popup=popup('Tunnel')).add_to(m)\n",
    "CircleMarker(tunnelnodes[ibgt][0],radius=2,color='purple',fillcolor='purple').add_to(m)\n",
    "CircleMarker(tunnelnodes[ibgt][-1],radius=2,color='purple',fillcolor='purple').add_to(m)\n",
    "names = list(set([e[4] for e in bg if e[0]==ibgt and e[0]==ibgt]))\n",
    "for i,name in enumerate(names):\n",
    "    pt = sorted([e[3] for e in bg if e[0]==ibgt and e[4]==name])\n",
    "    ll = route[name][pt[0]:pt[-1]]\n",
    "    [CircleMarker(l,color=mycolors[i],radius=2,popup=popup(name)).add_to(m) for l in ll]\n",
    "    #folium.PolyLine(ll,color=mycolors[i],tooltip=name,highlight_function=highlight_function).add_to(m)\n",
    "m.fit_bounds(m.get_bounds())\n",
    "m"
   ]
  },
  {
   "cell_type": "code",
   "execution_count": null,
   "metadata": {},
   "outputs": [],
   "source": [
    "name = 'Rados__aw_Rog____'\n",
    "pt = sorted([e[3] for e in bg if e[0]==ibgt and e[4]==name])\n",
    "ll = route[name][pt[0]:pt[-1]]\n",
    "m = folium.Map(tiles='OpenStreetMap')\n",
    "folium.PolyLine(tunnelnodes[ibgt],color='red',popup=popup('Tunnel')).add_to(m)\n",
    "CircleMarker(tunnelnodes[ibgt][0],radius=2,color='purple',fillcolor='purple').add_to(m)\n",
    "CircleMarker(tunnelnodes[ibgt][-1],radius=2,color='purple',fillcolor='purple').add_to(m)\n",
    "[CircleMarker(l,popup=popup(name)).add_to(m) for l in ll]\n",
    "folium.PolyLine(ll).add_to(m)\n",
    "m.fit_bounds(m.get_bounds())\n",
    "m"
   ]
  },
  {
   "cell_type": "code",
   "execution_count": null,
   "metadata": {},
   "outputs": [],
   "source": [
    "name = 'Tom_Probert'\n",
    "pt = sorted([e[3] for e in bg if e[0]==ibgt and e[4]==name])\n",
    "ll = route[name][pt[0]:pt[-1]]\n",
    "m = folium.Map(tiles='OpenStreetMap')\n",
    "folium.PolyLine(tunnelnodes[ibgt],color='red',popup=popup('Tunnel')).add_to(m)\n",
    "CircleMarker(tunnelnodes[ibgt][0],radius=2,color='purple',fillcolor='purple').add_to(m)\n",
    "CircleMarker(tunnelnodes[ibgt][-1],radius=2,color='purple',fillcolor='purple').add_to(m)\n",
    "[CircleMarker(l,popup=popup(name)).add_to(m) for l in ll]\n",
    "folium.PolyLine(ll).add_to(m)\n",
    "m.fit_bounds(m.get_bounds())\n",
    "m"
   ]
  },
  {
   "cell_type": "code",
   "execution_count": null,
   "metadata": {},
   "outputs": [],
   "source": [
    "ibgt = bgt[2]\n",
    "display(Markdown('# '+tunnels[ibgt]['tags']['name']+' '+tunnels[ibgt]['tags']['ref'] ))\n"
   ]
  },
  {
   "cell_type": "code",
   "execution_count": null,
   "metadata": {},
   "outputs": [],
   "source": [
    "m = folium.Map(tiles='OpenStreetMap')\n",
    "folium.PolyLine(tunnelnodes[ibgt],color='red',popup=popup('Tunnel')).add_to(m)\n",
    "CircleMarker(tunnelnodes[ibgt][0],radius=2,color='purple',fillcolor='purple').add_to(m)\n",
    "CircleMarker(tunnelnodes[ibgt][-1],radius=2,color='purple',fillcolor='purple').add_to(m)\n",
    "names = list(set([e[4] for e in bg if e[0]==ibgt and e[0]==ibgt]))\n",
    "for i,name in enumerate(names):\n",
    "    pt = sorted([e[3] for e in bg if e[0]==ibgt and e[4]==name])\n",
    "    ll = route[name][pt[0]:pt[-1]]\n",
    "    [CircleMarker(l,color='red',radius=2,popup=popup(name)).add_to(m) for l in ll]\n",
    "    #folium.PolyLine(ll,color=mycolors[i],tooltip=name,highlight_function=highlight_function).add_to(m)\n",
    "m.fit_bounds(m.get_bounds())\n",
    "m"
   ]
  },
  {
   "cell_type": "code",
   "execution_count": null,
   "metadata": {},
   "outputs": [],
   "source": [
    "list(set([e[4] for e in bg if e[0]==ibgt and e[0]==ibgt]))"
   ]
  },
  {
   "cell_type": "code",
   "execution_count": null,
   "metadata": {},
   "outputs": [],
   "source": [
    "name = 'Jesko_von_Werthern'\n",
    "pt = sorted([e[3] for e in bg if e[0]==ibgt and e[4]==name])\n",
    "ll = route[name]\n",
    "m = folium.Map(tiles='OpenStreetMap')\n",
    "folium.PolyLine(tunnelnodes[ibgt],color='red',popup=popup('Tunnel')).add_to(m)\n",
    "CircleMarker(tunnelnodes[ibgt][0],radius=2,color='purple',fillcolor='purple').add_to(m)\n",
    "CircleMarker(tunnelnodes[ibgt][-1],radius=2,color='purple',fillcolor='purple').add_to(m)\n",
    "m.fit_bounds(m.get_bounds())\n",
    "#[CircleMarker(l,popup=popup(name)).add_to(m) for l in ll]\n",
    "folium.PolyLine(ll).add_to(m)\n",
    "m"
   ]
  },
  {
   "cell_type": "code",
   "execution_count": null,
   "metadata": {},
   "outputs": [],
   "source": [
    "ibgt = bgt[3]\n",
    "display(Markdown('# '+tunnels[ibgt]['tags']['name']+' '+tunnels[ibgt]['tags']['ref']))\n",
    "names = list(set([e[4] for e in bg if e[0]==ibgt and e[0]==ibgt]))"
   ]
  },
  {
   "cell_type": "code",
   "execution_count": null,
   "metadata": {},
   "outputs": [],
   "source": [
    "m = folium.Map(tiles='OpenStreetMap')\n",
    "folium.PolyLine(tunnelnodes[ibgt],color='red',popup=popup('Tunnel')).add_to(m)\n",
    "CircleMarker(tunnelnodes[ibgt][0],radius=2,color='purple',fillcolor='purple').add_to(m)\n",
    "CircleMarker(tunnelnodes[ibgt][-1],radius=2,color='purple',fillcolor='purple').add_to(m)\n",
    "names = list(set([e[4] for e in bg if e[0]==ibgt and e[0]==ibgt]))\n",
    "for i,name in enumerate(names):\n",
    "    pt = sorted([e[3] for e in bg if e[0]==ibgt and e[4]==name])\n",
    "    ll = route[name][pt[0]:pt[-1]]\n",
    "    [CircleMarker(l,color=mycolors[i],radius=2,popup=popup(name)).add_to(m) for l in ll]\n",
    "    #folium.PolyLine(ll,color=mycolors[i],tooltip=name,highlight_function=highlight_function).add_to(m)\n",
    "m.fit_bounds(m.get_bounds())\n",
    "m"
   ]
  },
  {
   "cell_type": "code",
   "execution_count": null,
   "metadata": {},
   "outputs": [],
   "source": [
    "ibgt = bgt[4]\n",
    "display(Markdown('# '+tunnels[ibgt]['tags']['name']+' '+tunnels[ibgt]['tags']['ref']))\n",
    "names = list(set([e[4] for e in bg if e[0]==ibgt and e[0]==ibgt]))"
   ]
  },
  {
   "cell_type": "code",
   "execution_count": null,
   "metadata": {},
   "outputs": [],
   "source": [
    "m = folium.Map(tiles='OpenStreetMap')\n",
    "folium.PolyLine(tunnelnodes[ibgt],color='red',popup=popup('Tunnel')).add_to(m)\n",
    "CircleMarker(tunnelnodes[ibgt][0],radius=2,color='purple',fillcolor='purple').add_to(m)\n",
    "CircleMarker(tunnelnodes[ibgt][-1],radius=2,color='purple',fillcolor='purple').add_to(m)\n",
    "names = list(set([e[4] for e in bg if e[0]==ibgt and e[0]==ibgt]))\n",
    "for i,name in enumerate(names):\n",
    "    pt = sorted([e[3] for e in bg if e[0]==ibgt and e[4]==name])\n",
    "    ll = route[name][pt[0]:pt[-1]]\n",
    "    [CircleMarker(l,color=mycolors[i],radius=2,popup=popup(name)).add_to(m) for l in ll]\n",
    "    #folium.PolyLine(ll,color=mycolors[i],tooltip=name,highlight_function=highlight_function).add_to(m)\n",
    "m.fit_bounds(m.get_bounds())\n",
    "m"
   ]
  },
  {
   "cell_type": "code",
   "execution_count": null,
   "metadata": {},
   "outputs": [],
   "source": [
    "ibgt = bgt[5]\n",
    "display(Markdown('# '+tunnels[ibgt]['tags']['name']+' '+tunnels[ibgt]['tags']['ref']))\n",
    "names = list(set([e[4] for e in bg if e[0]==ibgt and e[0]==ibgt]))"
   ]
  },
  {
   "cell_type": "code",
   "execution_count": null,
   "metadata": {},
   "outputs": [],
   "source": [
    "m = folium.Map(tiles='OpenStreetMap')\n",
    "folium.PolyLine(tunnelnodes[ibgt],color='red',popup=popup('Tunnel')).add_to(m)\n",
    "CircleMarker(tunnelnodes[ibgt][0],radius=2,color='purple',fillcolor='purple').add_to(m)\n",
    "CircleMarker(tunnelnodes[ibgt][-1],radius=2,color='purple',fillcolor='purple').add_to(m)\n",
    "names = list(set([e[4] for e in bg if e[0]==ibgt and e[0]==ibgt]))\n",
    "for i,name in enumerate(names):\n",
    "    pt = sorted([e[3] for e in bg if e[0]==ibgt and e[4]==name])\n",
    "    ll = route[name][pt[0]:pt[-1]]\n",
    "    [CircleMarker(l,color=mycolors[i],radius=2,popup=popup(name)).add_to(m) for l in ll]\n",
    "    #folium.PolyLine(ll,color=mycolors[i],tooltip=name,highlight_function=highlight_function).add_to(m)\n",
    "m.fit_bounds(m.get_bounds())\n",
    "m"
   ]
  },
  {
   "cell_type": "code",
   "execution_count": null,
   "metadata": {},
   "outputs": [],
   "source": [
    "list(set([e[4] for e in bg if e[0]==ibgt and e[0]==ibgt]))"
   ]
  },
  {
   "cell_type": "code",
   "execution_count": null,
   "metadata": {},
   "outputs": [],
   "source": [
    "name = 'Yiqun_Fu'\n",
    "pt = sorted([e[3] for e in bg if e[0]==ibgt and e[4]==name])\n",
    "ll = route[name]\n",
    "m = folium.Map(tiles='OpenStreetMap')\n",
    "folium.PolyLine(tunnelnodes[ibgt],color='red',popup=popup('Tunnel')).add_to(m)\n",
    "CircleMarker(tunnelnodes[ibgt][0],radius=2,color='purple',fillcolor='purple').add_to(m)\n",
    "CircleMarker(tunnelnodes[ibgt][-1],radius=2,color='purple',fillcolor='purple').add_to(m)\n",
    "m.fit_bounds(m.get_bounds())\n",
    "#[CircleMarker(l,popup=popup(name)).add_to(m) for l in ll]\n",
    "folium.PolyLine(ll).add_to(m)\n",
    "m"
   ]
  },
  {
   "cell_type": "code",
   "execution_count": null,
   "metadata": {},
   "outputs": [],
   "source": [
    "ibgt = bgt[6]\n",
    "display(Markdown('# '+tunnels[ibgt]['tags']['name']+' '+tunnels[ibgt]['tags']['ref']))\n",
    "names = list(set([e[4] for e in bg if e[0]==ibgt and e[0]==ibgt]))"
   ]
  },
  {
   "cell_type": "code",
   "execution_count": null,
   "metadata": {},
   "outputs": [],
   "source": [
    "m = folium.Map(tiles='OpenStreetMap')\n",
    "folium.PolyLine(tunnelnodes[ibgt],color='red',popup=popup('Tunnel')).add_to(m)\n",
    "CircleMarker(tunnelnodes[ibgt][0],radius=2,color='purple',fillcolor='purple').add_to(m)\n",
    "CircleMarker(tunnelnodes[ibgt][-1],radius=2,color='purple',fillcolor='purple').add_to(m)\n",
    "names = list(set([e[4] for e in bg if e[0]==ibgt and e[0]==ibgt]))\n",
    "for i,name in enumerate(names):\n",
    "    pt = sorted([e[3] for e in bg if e[0]==ibgt and e[4]==name])\n",
    "    ll = route[name][pt[0]:pt[-1]]\n",
    "    [CircleMarker(l,color=mycolors[i],radius=2,popup=popup(name)).add_to(m) for l in ll]\n",
    "m.fit_bounds(m.get_bounds())\n",
    "m"
   ]
  },
  {
   "cell_type": "code",
   "execution_count": null,
   "metadata": {},
   "outputs": [],
   "source": [
    "ibgt = bgt[7]\n",
    "display(Markdown('# '+tunnels[ibgt]['tags']['name']+' '+tunnels[ibgt]['tags']['ref']))"
   ]
  },
  {
   "cell_type": "code",
   "execution_count": null,
   "metadata": {},
   "outputs": [],
   "source": [
    "m = folium.Map(tiles='OpenStreetMap')\n",
    "folium.PolyLine(tunnelnodes[ibgt],color='red',popup=popup('Tunnel')).add_to(m)\n",
    "CircleMarker(tunnelnodes[ibgt][0],radius=2,color='purple',fillcolor='purple').add_to(m)\n",
    "CircleMarker(tunnelnodes[ibgt][-1],radius=2,color='purple',fillcolor='purple').add_to(m)\n",
    "names = list(set([e[4] for e in bg if e[0]==ibgt and e[0]==ibgt]))\n",
    "for i,name in enumerate(names):\n",
    "    pt = sorted([e[3] for e in bg if e[0]==ibgt and e[4]==name])\n",
    "    ll = route[name][pt[0]:pt[-1]]\n",
    "    [CircleMarker(l,color=mycolors[i],radius=2,popup=popup(name)).add_to(m) for l in ll]\n",
    "m.fit_bounds(m.get_bounds())\n",
    "m"
   ]
  },
  {
   "cell_type": "code",
   "execution_count": null,
   "metadata": {},
   "outputs": [],
   "source": [
    "tunnels[ibgt]['tags']"
   ]
  },
  {
   "cell_type": "code",
   "execution_count": null,
   "metadata": {},
   "outputs": [],
   "source": [
    "ibgt = bgt[8]\n",
    "display(Markdown('# '+tunnels[ibgt]['tags']['ref']))"
   ]
  },
  {
   "cell_type": "markdown",
   "metadata": {},
   "source": [
    "There seems to be a path around the tunnel"
   ]
  },
  {
   "cell_type": "code",
   "execution_count": null,
   "metadata": {},
   "outputs": [],
   "source": [
    "m = folium.Map(tiles='OpenStreetMap')\n",
    "folium.PolyLine(tunnelnodes[ibgt],color='red',popup=popup('Tunnel')).add_to(m)\n",
    "CircleMarker(tunnelnodes[ibgt][0],radius=2,color='purple',fillcolor='purple').add_to(m)\n",
    "CircleMarker(tunnelnodes[ibgt][-1],radius=2,color='purple',fillcolor='purple').add_to(m)\n",
    "names = list(set([e[4] for e in bg if e[0]==ibgt and e[0]==ibgt]))\n",
    "for i,name in enumerate(names):\n",
    "    pt = sorted([e[3] for e in bg if e[0]==ibgt and e[4]==name])\n",
    "    ll = route[name][pt[0]:pt[-1]]\n",
    "    [CircleMarker(l,color=mycolors[i],radius=2,popup=popup(name)).add_to(m) for l in ll]\n",
    "m.fit_bounds(m.get_bounds())\n",
    "m"
   ]
  },
  {
   "cell_type": "code",
   "execution_count": null,
   "metadata": {},
   "outputs": [],
   "source": [
    "name = 'Fausto_Ottoboni'\n",
    "pt = sorted([e[3] for e in bg if e[0]==ibgt and e[4]==name])\n",
    "ll = route[name][pt[0]-1:pt[-1]]\n",
    "m = folium.Map(tiles='OpenStreetMap')\n",
    "folium.PolyLine(tunnelnodes[ibgt],color='red',popup=popup('Tunnel')).add_to(m)\n",
    "CircleMarker(tunnelnodes[ibgt][0],radius=2,color='purple',fillcolor='purple').add_to(m)\n",
    "CircleMarker(tunnelnodes[ibgt][-1],radius=2,color='purple',fillcolor='purple').add_to(m)\n",
    "m.fit_bounds(m.get_bounds())\n",
    "[CircleMarker(l,popup=popup(name),radius=2).add_to(m) for l in ll]\n",
    "folium.PolyLine(ll).add_to(m)\n",
    "m"
   ]
  },
  {
   "cell_type": "code",
   "execution_count": null,
   "metadata": {},
   "outputs": [],
   "source": [
    "name = 'Massimo_Varini'\n",
    "pt = sorted([e[3] for e in bg if e[0]==ibgt and e[4]==name])\n",
    "ll = route[name][pt[0]:pt[-1]]\n",
    "m = folium.Map(tiles='OpenStreetMap')\n",
    "folium.PolyLine(tunnelnodes[ibgt],color='red',popup=popup('Tunnel')).add_to(m)\n",
    "CircleMarker(tunnelnodes[ibgt][0],radius=2,color='purple',fillcolor='purple').add_to(m)\n",
    "CircleMarker(tunnelnodes[ibgt][-1],radius=2,color='purple',fillcolor='purple').add_to(m)\n",
    "m.fit_bounds(m.get_bounds())\n",
    "[CircleMarker(l,popup=popup(name),radius=2).add_to(m) for l in ll]\n",
    "folium.PolyLine(ll).add_to(m)\n",
    "m"
   ]
  },
  {
   "cell_type": "code",
   "execution_count": null,
   "metadata": {},
   "outputs": [],
   "source": [
    "len(bgt)"
   ]
  }
 ],
 "metadata": {
  "kernelspec": {
   "display_name": "Python 3",
   "language": "python",
   "name": "python3"
  },
  "language_info": {
   "codemirror_mode": {
    "name": "ipython",
    "version": 3
   },
   "file_extension": ".py",
   "mimetype": "text/x-python",
   "name": "python",
   "nbconvert_exporter": "python",
   "pygments_lexer": "ipython3",
   "version": "3.7.2"
  }
 },
 "nbformat": 4,
 "nbformat_minor": 2
}
