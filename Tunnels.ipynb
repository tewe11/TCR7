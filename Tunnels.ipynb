{
 "cells": [
  {
   "cell_type": "code",
   "execution_count": null,
   "metadata": {},
   "outputs": [],
   "source": [
    "import requests\n",
    "import pandas as pd \n",
    "import folium\n",
    "from folium import FeatureGroup, features, CircleMarker\n",
    "import numpy as np\n",
    "from matplotlib import colors as mcolors\n",
    "from haversine import haversine"
   ]
  },
  {
   "cell_type": "code",
   "execution_count": null,
   "metadata": {},
   "outputs": [],
   "source": [
    "def popup(i,l,t,show=False):\n",
    "    return folium.Popup('#%d [%f,%f]\\n%s' % (i,l[0],l[1],str(t)),show=show)\n"
   ]
  },
  {
   "cell_type": "code",
   "execution_count": null,
   "metadata": {},
   "outputs": [],
   "source": [
    "query=\\\n",
    "\"\"\"/*\n",
    "This is an example Overpass query.\n",
    "Try it out by pressing the Run button above!\n",
    "You can find more examples with the Load tool.\n",
    "*/\n",
    "[out:json];\n",
    "way\n",
    "  [highway][tunnel][bicycle=no]\n",
    "  (46.37346430137335,11.211547851562498,47.184112659842015,12.60955810546875);\n",
    "/*added by auto repair*/\n",
    "(._;>;);\n",
    "/*end of auto repair*/\n",
    "out;\"\"\""
   ]
  },
  {
   "cell_type": "code",
   "execution_count": null,
   "metadata": {},
   "outputs": [],
   "source": [
    "r = requests.get('http://overpass-api.de/api/interpreter?data='+query)\n",
    "print(r.status_code)\n",
    "ores = r.json()"
   ]
  },
  {
   "cell_type": "code",
   "execution_count": null,
   "metadata": {},
   "outputs": [],
   "source": [
    "tunnels =[e for e in ores['elements'] if e['type']=='way']\n"
   ]
  },
  {
   "cell_type": "code",
   "execution_count": null,
   "metadata": {},
   "outputs": [],
   "source": [
    "nodes = [e for e in ores['elements'] if e['type']=='node']"
   ]
  },
  {
   "cell_type": "code",
   "execution_count": null,
   "metadata": {},
   "outputs": [],
   "source": [
    "tunnelnodes = []\n",
    "for tunnel in tunnels:\n",
    "    nt = []\n",
    "    for nodeid in tunnel['nodes']:\n",
    "        for node in nodes:\n",
    "            if node['id'] == nodeid:\n",
    "                nt.append([node['lat'],node['lon']])\n",
    "    tunnelnodes.append(nt)"
   ]
  },
  {
   "cell_type": "code",
   "execution_count": null,
   "metadata": {},
   "outputs": [],
   "source": [
    "len(tunnelnodes)"
   ]
  },
  {
   "cell_type": "code",
   "execution_count": null,
   "metadata": {},
   "outputs": [],
   "source": [
    "m = folium.Map(tiles='OpenStreetMap')\n",
    "for i,tunnel in enumerate(tunnels):\n",
    "    folium.PolyLine(tunnelnodes[i],color='red').add_to(m)\n",
    "m.fit_bounds(m.get_bounds())\n",
    "m"
   ]
  },
  {
   "cell_type": "code",
   "execution_count": null,
   "metadata": {},
   "outputs": [],
   "source": [
    "mypath='./2019-08-04/Tracks/'"
   ]
  },
  {
   "cell_type": "code",
   "execution_count": null,
   "metadata": {},
   "outputs": [],
   "source": [
    "racers = pd.read_pickle('racers.pkl')"
   ]
  },
  {
   "cell_type": "code",
   "execution_count": null,
   "metadata": {},
   "outputs": [],
   "source": [
    "route={}\n",
    "for racer in racers['Name']:\n",
    "    try:\n",
    "        ll =[l[0] for i,l in enumerate(pd.read_pickle(mypath+racer+'.pkl').values.tolist())]\n",
    "        route[racer] = ll\n",
    "    except:\n",
    "        print (racer)"
   ]
  },
  {
   "cell_type": "code",
   "execution_count": null,
   "metadata": {},
   "outputs": [],
   "source": [
    "mycolors = list(mcolors.cnames.keys())"
   ]
  },
  {
   "cell_type": "code",
   "execution_count": null,
   "metadata": {},
   "outputs": [],
   "source": [
    "ncolor =len(mycolors)"
   ]
  },
  {
   "cell_type": "code",
   "execution_count": null,
   "metadata": {},
   "outputs": [],
   "source": [
    "1000 % ncolor"
   ]
  },
  {
   "cell_type": "code",
   "execution_count": null,
   "metadata": {},
   "outputs": [],
   "source": [
    "def popup(name,bib,show=False):\n",
    "    return folium.Popup('%s\\%s' % (name,bib) ,show=show)"
   ]
  },
  {
   "cell_type": "code",
   "execution_count": null,
   "metadata": {},
   "outputs": [],
   "source": [
    "m = folium.Map(tiles='OpenStreetMap')\n",
    "folium.PolyLine(tunnelnodes[14],color='red').add_to(m)\n",
    "[CircleMarker(l).add_to(m) for l in tunnelnodes[14]]\n",
    "CircleMarker(tunnelnodes[14][0],color='red').add_to(m)\n",
    "CircleMarker(tunnelnodes[14][-1],color='red').add_to(m)\n",
    "m.fit_bounds(m.get_bounds())\n",
    "m"
   ]
  },
  {
   "cell_type": "code",
   "execution_count": null,
   "metadata": {},
   "outputs": [],
   "source": [
    "tunnellength = [sum(list(map(lambda x,y:haversine(x,y),tunnel[1:],tunnel[:-2]))) for tunnel in tunnelnodes]"
   ]
  },
  {
   "cell_type": "code",
   "execution_count": null,
   "metadata": {
    "scrolled": true
   },
   "outputs": [],
   "source": [
    "bg =[]\n",
    "for k,racer in racers.iterrows():\n",
    "    try:\n",
    "        if racer['Bib']=='CC1':\n",
    "            continue\n",
    "        for i,l in enumerate(route[racer['Name']]):\n",
    "            for j,tunnel in enumerate(tunnelnodes):\n",
    "                d = haversine(l,tunnel[0],'km')\n",
    "                if d < 2:\n",
    "                    bg.append([j,d,l,i,racer['Name'],racer['Bib']])\n",
    "                d = haversine(l,tunnel[-1],'km')                    \n",
    "                if d < 2:\n",
    "                    bg.append([j,d,l,i,racer['Name'],racer['Bib']])\n",
    "    except:\n",
    "        print(racer['Name'])\n",
    "\n",
    "       "
   ]
  },
  {
   "cell_type": "code",
   "execution_count": null,
   "metadata": {},
   "outputs": [],
   "source": [
    "bg =[]\n",
    "for k,racer in racers.iterrows():\n",
    "    try:\n",
    "        if racer['Bib']=='CC1':\n",
    "            continue\n",
    "        for i,l in enumerate(route[racer['Name']]):\n",
    "            for j,tunnel in enumerate(tunnelnodes):\n",
    "                a,b = haversine(l,tunnel[0],'km'), haversine(l,tunnel[-1],'km')\n",
    "                if a < 2 or b <2: # is he close to the tunnel\n",
    "                    \n",
    "                    \n",
    "                    bg.append([j,d,l,i,racer['Name'],racer['Bib']])\n",
    "                d = haversine(l,tunnel[-1],'km')                    \n",
    "                if d < 2:\n",
    "                    bg.append([j,d,l,i,racer['Name'],racer['Bib']])\n",
    "    except:\n",
    "        print(racer['Name'])"
   ]
  },
  {
   "cell_type": "code",
   "execution_count": null,
   "metadata": {},
   "outputs": [],
   "source": [
    "bg"
   ]
  },
  {
   "cell_type": "code",
   "execution_count": null,
   "metadata": {},
   "outputs": [],
   "source": [
    "bgt =list(set([e[0] for e in bg]))\n",
    "bgt"
   ]
  },
  {
   "cell_type": "code",
   "execution_count": null,
   "metadata": {},
   "outputs": [],
   "source": [
    "tunnels[1]"
   ]
  },
  {
   "cell_type": "code",
   "execution_count": null,
   "metadata": {},
   "outputs": [],
   "source": [
    "bgb =list(set([e[4] for e in bg]))"
   ]
  },
  {
   "cell_type": "code",
   "execution_count": null,
   "metadata": {},
   "outputs": [],
   "source": [
    "bgb"
   ]
  },
  {
   "cell_type": "code",
   "execution_count": null,
   "metadata": {},
   "outputs": [],
   "source": [
    "len(bgb)"
   ]
  },
  {
   "cell_type": "code",
   "execution_count": null,
   "metadata": {},
   "outputs": [],
   "source": [
    "len(bgt)"
   ]
  },
  {
   "cell_type": "code",
   "execution_count": null,
   "metadata": {},
   "outputs": [],
   "source": [
    "[e for e in bg if e[0]==1 and e[4]=='Clayton_Anderson']"
   ]
  },
  {
   "cell_type": "code",
   "execution_count": null,
   "metadata": {},
   "outputs": [],
   "source": [
    "ll = route['Clayton_Anderson'][1131:1136]\n",
    "m = folium.Map(tiles='OpenStreetMap')\n",
    "[CircleMarker(l).add_to(m) for l in tunnelnodes[1]]\n",
    "CircleMarker(tunnelnodes[1][0],color='purple').add_to(m)\n",
    "CircleMarker(tunnelnodes[1][-1],color='yellow').add_to(m)\n",
    "[CircleMarker(l,color='red').add_to(m) for l in ll]\n",
    "folium.PolyLine(ll,color='red').add_to(m)\n",
    "m.fit_bounds(m.get_bounds())\n",
    "m"
   ]
  },
  {
   "cell_type": "code",
   "execution_count": null,
   "metadata": {},
   "outputs": [],
   "source": [
    "tunnels[1]"
   ]
  },
  {
   "cell_type": "code",
   "execution_count": null,
   "metadata": {},
   "outputs": [],
   "source": [
    "[e for e in bg if e[0]==38 and e[4]=='Clayton_Anderson']"
   ]
  },
  {
   "cell_type": "code",
   "execution_count": null,
   "metadata": {},
   "outputs": [],
   "source": [
    "ll = route['Clayton_Anderson'][1200:1210]\n",
    "m = folium.Map(tiles='OpenStreetMap')\n",
    "[CircleMarker(l).add_to(m) for l in tunnelnodes[38]]\n",
    "CircleMarker(tunnelnodes[38][0],color='purple').add_to(m)\n",
    "CircleMarker(tunnelnodes[38][-1],color='purple').add_to(m)\n",
    "[CircleMarker(l,color='red').add_to(m) for l in ll]\n",
    "folium.PolyLine(ll,color='red').add_to(m)\n",
    "m.fit_bounds(m.get_bounds())\n",
    "m"
   ]
  },
  {
   "cell_type": "code",
   "execution_count": null,
   "metadata": {},
   "outputs": [],
   "source": []
  }
 ],
 "metadata": {
  "kernelspec": {
   "display_name": "Python 3",
   "language": "python",
   "name": "python3"
  },
  "language_info": {
   "codemirror_mode": {
    "name": "ipython",
    "version": 3
   },
   "file_extension": ".py",
   "mimetype": "text/x-python",
   "name": "python",
   "nbconvert_exporter": "python",
   "pygments_lexer": "ipython3",
   "version": "3.7.2"
  }
 },
 "nbformat": 4,
 "nbformat_minor": 2
}
