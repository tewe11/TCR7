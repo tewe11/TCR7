{
 "cells": [
  {
   "cell_type": "code",
   "execution_count": null,
   "metadata": {},
   "outputs": [],
   "source": [
    "import requests\n",
    "import pandas as pd \n",
    "import folium\n",
    "from folium import FeatureGroup, features, CircleMarker\n",
    "import numpy as np\n",
    "from matplotlib import colors as mcolors\n",
    "from haversine import haversine\n",
    "import traceback\n",
    "from folium import IFrame\n",
    "from IPython.display import Markdown, display"
   ]
  },
  {
   "cell_type": "code",
   "execution_count": null,
   "metadata": {},
   "outputs": [],
   "source": [
    "query=\\\n",
    "\"\"\"\n",
    "[out:json];\n",
    "way[highway]\n",
    "  [highway!~\"(pedestrian|path|footway|steps|via_ferrata|service|construction|unclassified)\"]\n",
    "  [tunnel][bicycle=no]\n",
    "  (45.82114340079471,5.7952880859375,47.73562905149295,12.1871337890625);\n",
    "(._;>;);\n",
    "out;\"\"\""
   ]
  },
  {
   "cell_type": "code",
   "execution_count": null,
   "metadata": {},
   "outputs": [],
   "source": [
    "r = requests.get('http://overpass-api.de/api/interpreter?data='+query)\n",
    "print(r.status_code)\n",
    "ores = r.json()"
   ]
  },
  {
   "cell_type": "code",
   "execution_count": null,
   "metadata": {},
   "outputs": [],
   "source": [
    "tunnels =[e for e in ores['elements'] if e['type']=='way']\n",
    "len(tunnels)"
   ]
  },
  {
   "cell_type": "code",
   "execution_count": null,
   "metadata": {},
   "outputs": [],
   "source": [
    "nodes = [e for e in ores['elements'] if e['type']=='node']"
   ]
  },
  {
   "cell_type": "code",
   "execution_count": null,
   "metadata": {},
   "outputs": [],
   "source": [
    "tunnelnodes = []\n",
    "for tunnel in tunnels:\n",
    "    nt = []\n",
    "    for nodeid in tunnel['nodes']:\n",
    "        for node in nodes:\n",
    "            if node['id'] == nodeid:\n",
    "                nt.append([node['lat'],node['lon']])\n",
    "    tunnelnodes.append(nt)"
   ]
  },
  {
   "cell_type": "markdown",
   "metadata": {},
   "source": [
    "# All forbidden tunnels in the Alps"
   ]
  },
  {
   "cell_type": "code",
   "execution_count": null,
   "metadata": {},
   "outputs": [],
   "source": [
    "m = folium.Map(tiles='OpenStreetMap')\n",
    "for i,tunnel in enumerate(tunnels):\n",
    "    folium.PolyLine(tunnelnodes[i],color='red').add_to(m)\n",
    "m.fit_bounds(m.get_bounds())\n",
    "m"
   ]
  },
  {
   "cell_type": "code",
   "execution_count": null,
   "metadata": {},
   "outputs": [],
   "source": [
    "mypath='./2019-08-05/Tracks/'"
   ]
  },
  {
   "cell_type": "code",
   "execution_count": null,
   "metadata": {},
   "outputs": [],
   "source": [
    "racers = pd.read_pickle('racers.pkl')"
   ]
  },
  {
   "cell_type": "code",
   "execution_count": null,
   "metadata": {},
   "outputs": [],
   "source": [
    "route={}\n",
    "for racer in racers['Name']:\n",
    "    try:\n",
    "        ll =[l[0] for i,l in enumerate(pd.read_pickle(mypath+racer+'.pkl').values.tolist())]\n",
    "        route[racer] = ll\n",
    "    except Exception as e:\n",
    "        print('error: '+racer+' '+traceback.format_exc())"
   ]
  },
  {
   "cell_type": "code",
   "execution_count": null,
   "metadata": {},
   "outputs": [],
   "source": [
    "mycolors = list(mcolors.cnames.keys())"
   ]
  },
  {
   "cell_type": "code",
   "execution_count": null,
   "metadata": {},
   "outputs": [],
   "source": [
    "tunnellength = [sum(list(map(lambda x,y:haversine(x,y),tunnel[1:],tunnel[:-2]))) for tunnel in tunnelnodes]"
   ]
  },
  {
   "cell_type": "code",
   "execution_count": null,
   "metadata": {},
   "outputs": [],
   "source": [
    "bg =[]\n",
    "for k,racer in racers.iterrows():\n",
    "    try:\n",
    "        if racer['Bib']=='CC1' or racer['Bib']=='CC2':\n",
    "            continue\n",
    "        for i,l in enumerate(route[racer['Name']]):\n",
    "            for j,tunnel in enumerate(tunnelnodes):\n",
    "                d = haversine(l,tunnel[0],'km')\n",
    "                if d < 2:\n",
    "                    bg.append([j,d,l,i,racer['Name'],racer['Bib']])\n",
    "                d = haversine(l,tunnel[-1],'km')                    \n",
    "                if d < 2:\n",
    "                    bg.append([j,d,l,i,racer['Name'],racer['Bib']])\n",
    "    except:\n",
    "        print(racer['Name'])"
   ]
  },
  {
   "cell_type": "markdown",
   "metadata": {},
   "source": [
    "## Forbidden tunnels where riders came close"
   ]
  },
  {
   "cell_type": "code",
   "execution_count": null,
   "metadata": {},
   "outputs": [],
   "source": [
    "bgt =list(set([e[0] for e in bg]))\n",
    "len(bgt)"
   ]
  },
  {
   "cell_type": "code",
   "execution_count": null,
   "metadata": {},
   "outputs": [],
   "source": [
    "def popup(t,show=False):\n",
    "    return folium.Popup('%s' % (t),show=show)"
   ]
  },
  {
   "cell_type": "code",
   "execution_count": null,
   "metadata": {},
   "outputs": [],
   "source": [
    "m = folium.Map(tiles='OpenStreetMap')\n",
    "for i in bgt:\n",
    "    name = name = tunnels[i]['tags']['name'] if 'name' in tunnels[i]['tags'] else ''\n",
    "    folium.PolyLine(tunnelnodes[i],color='red',popup=popup(name)).add_to(m)\n",
    "m.fit_bounds(m.get_bounds())\n",
    "m"
   ]
  },
  {
   "cell_type": "code",
   "execution_count": null,
   "metadata": {},
   "outputs": [],
   "source": [
    "ibgt = bgt[0]\n",
    "display(Markdown('# '+tunnels[ibgt]['tags']['name']))"
   ]
  },
  {
   "cell_type": "code",
   "execution_count": null,
   "metadata": {},
   "outputs": [],
   "source": [
    "m = folium.Map(tiles='OpenStreetMap')\n",
    "folium.PolyLine(tunnelnodes[ibgt],color='red',popup=popup('Tunnel')).add_to(m)\n",
    "CircleMarker(tunnelnodes[ibgt][0],radius=2,color='purple',fillcolor='purple').add_to(m)\n",
    "CircleMarker(tunnelnodes[ibgt][-1],radius=2,color='purple',fillcolor='purple').add_to(m)\n",
    "names = list(set([e[4] for e in bg if e[0]==ibgt and e[0]==ibgt]))\n",
    "for i,name in enumerate(names):\n",
    "    pt = sorted([e[3] for e in bg if e[0]==ibgt and e[4]==name])\n",
    "    ll = route[name][pt[0]:pt[-1]]\n",
    "    [CircleMarker(l,color=mycolors[i],radius=2,popup=popup(name)).add_to(m) for l in ll]\n",
    "    #folium.PolyLine(ll,color=mycolors[i],tooltip=name,highlight_function=highlight_function).add_to(m)\n",
    "m.fit_bounds(m.get_bounds())\n",
    "m"
   ]
  },
  {
   "cell_type": "markdown",
   "metadata": {},
   "source": [
    "Josh Murphy looks suspicious"
   ]
  },
  {
   "cell_type": "code",
   "execution_count": null,
   "metadata": {},
   "outputs": [],
   "source": [
    "name = 'Josh_Murphy'\n",
    "ll = route[name]\n",
    "m = folium.Map(tiles='OpenStreetMap')\n",
    "folium.PolyLine(tunnelnodes[1],color='red',popup=popup('Tunnel')).add_to(m)\n",
    "CircleMarker(tunnelnodes[1][0],radius=2,color='purple',fillcolor='purple').add_to(m)\n",
    "CircleMarker(tunnelnodes[1][-1],radius=2,color='purple',fillcolor='purple').add_to(m)\n",
    "m.fit_bounds(m.get_bounds())\n",
    "[CircleMarker(l,popup=popup(name)).add_to(m) for l in ll]\n",
    "folium.PolyLine(ll).add_to(m)\n",
    "m"
   ]
  },
  {
   "cell_type": "code",
   "execution_count": null,
   "metadata": {},
   "outputs": [],
   "source": [
    "ibgt = bgt[1]\n",
    "display(Markdown('# '+tunnels[ibgt]['tags']['name']))"
   ]
  },
  {
   "cell_type": "code",
   "execution_count": null,
   "metadata": {},
   "outputs": [],
   "source": [
    "m = folium.Map(tiles='OpenStreetMap')\n",
    "folium.PolyLine(tunnelnodes[ibgt],color='red',popup=popup('Tunnel')).add_to(m)\n",
    "CircleMarker(tunnelnodes[ibgt][0],radius=2,color='purple',fillcolor='purple').add_to(m)\n",
    "CircleMarker(tunnelnodes[ibgt][-1],radius=2,color='purple',fillcolor='purple').add_to(m)\n",
    "names = list(set([e[4] for e in bg if e[0]==ibgt and e[0]==ibgt]))\n",
    "for i,name in enumerate(names):\n",
    "    pt = sorted([e[3] for e in bg if e[0]==ibgt and e[4]==name])\n",
    "    ll = route[name][pt[0]:pt[-1]]\n",
    "    [CircleMarker(l,color=mycolors[i],radius=2,popup=popup(name)).add_to(m) for l in ll]\n",
    "    #folium.PolyLine(ll,color=mycolors[i],tooltip=name,highlight_function=highlight_function).add_to(m)\n",
    "m.fit_bounds(m.get_bounds())\n",
    "m"
   ]
  },
  {
   "cell_type": "code",
   "execution_count": null,
   "metadata": {},
   "outputs": [],
   "source": [
    "name = 'Rados__aw_Rog____'\n",
    "pt = sorted([e[3] for e in bg if e[0]==ibgt and e[4]==name])\n",
    "ll = route[name][pt[0]-1:pt[-1]+1]\n",
    "m = folium.Map(tiles='OpenStreetMap')\n",
    "folium.PolyLine(tunnelnodes[ibgt],color='red',popup=popup('Tunnel')).add_to(m)\n",
    "CircleMarker(tunnelnodes[ibgt][0],radius=2,color='purple',fillcolor='purple').add_to(m)\n",
    "CircleMarker(tunnelnodes[ibgt][-1],radius=2,color='purple',fillcolor='purple').add_to(m)\n",
    "[CircleMarker(l,popup=popup(name)).add_to(m) for l in ll]\n",
    "folium.PolyLine(ll).add_to(m)\n",
    "m.fit_bounds(m.get_bounds())\n",
    "m"
   ]
  },
  {
   "cell_type": "code",
   "execution_count": null,
   "metadata": {},
   "outputs": [],
   "source": [
    "ibgt = bgt[2]\n",
    "display(Markdown('# '+tunnels[ibgt]['tags']['name']))\n"
   ]
  },
  {
   "cell_type": "code",
   "execution_count": null,
   "metadata": {},
   "outputs": [],
   "source": [
    "m = folium.Map(tiles='OpenStreetMap')\n",
    "folium.PolyLine(tunnelnodes[ibgt],color='red',popup=popup('Tunnel')).add_to(m)\n",
    "CircleMarker(tunnelnodes[ibgt][0],radius=2,color='purple',fillcolor='purple').add_to(m)\n",
    "CircleMarker(tunnelnodes[ibgt][-1],radius=2,color='purple',fillcolor='purple').add_to(m)\n",
    "names = list(set([e[4] for e in bg if e[0]==ibgt and e[0]==ibgt]))\n",
    "for i,name in enumerate(names):\n",
    "    pt = sorted([e[3] for e in bg if e[0]==ibgt and e[4]==name])\n",
    "    ll = route[name][pt[0]:pt[-1]]\n",
    "    [CircleMarker(l,color=mycolors[i],radius=2,popup=popup(name)).add_to(m) for l in ll]\n",
    "    #folium.PolyLine(ll,color=mycolors[i],tooltip=name,highlight_function=highlight_function).add_to(m)\n",
    "m.fit_bounds(m.get_bounds())\n",
    "m"
   ]
  },
  {
   "cell_type": "code",
   "execution_count": null,
   "metadata": {},
   "outputs": [],
   "source": [
    "ibgt = bgt[3]\n",
    "display(Markdown('# '+tunnels[ibgt]['tags']['name']))\n",
    "names = list(set([e[4] for e in bg if e[0]==ibgt and e[0]==ibgt]))"
   ]
  },
  {
   "cell_type": "code",
   "execution_count": null,
   "metadata": {},
   "outputs": [],
   "source": [
    "m = folium.Map(tiles='OpenStreetMap')\n",
    "folium.PolyLine(tunnelnodes[ibgt],color='red',popup=popup('Tunnel')).add_to(m)\n",
    "CircleMarker(tunnelnodes[ibgt][0],radius=2,color='purple',fillcolor='purple').add_to(m)\n",
    "CircleMarker(tunnelnodes[ibgt][-1],radius=2,color='purple',fillcolor='purple').add_to(m)\n",
    "names = list(set([e[4] for e in bg if e[0]==ibgt and e[0]==ibgt]))\n",
    "for i,name in enumerate(names):\n",
    "    pt = sorted([e[3] for e in bg if e[0]==ibgt and e[4]==name])\n",
    "    ll = route[name][pt[0]:pt[-1]]\n",
    "    [CircleMarker(l,color=mycolors[i],radius=2,popup=popup(name)).add_to(m) for l in ll]\n",
    "    #folium.PolyLine(ll,color=mycolors[i],tooltip=name,highlight_function=highlight_function).add_to(m)\n",
    "m.fit_bounds(m.get_bounds())\n",
    "m"
   ]
  },
  {
   "cell_type": "code",
   "execution_count": null,
   "metadata": {},
   "outputs": [],
   "source": [
    "ibgt = bgt[4]\n",
    "display(Markdown('# '+tunnels[ibgt]['tags']['name']))\n",
    "names = list(set([e[4] for e in bg if e[0]==ibgt and e[0]==ibgt]))"
   ]
  },
  {
   "cell_type": "code",
   "execution_count": null,
   "metadata": {},
   "outputs": [],
   "source": [
    "m = folium.Map(tiles='OpenStreetMap')\n",
    "folium.PolyLine(tunnelnodes[ibgt],color='red',popup=popup('Tunnel')).add_to(m)\n",
    "CircleMarker(tunnelnodes[ibgt][0],radius=2,color='purple',fillcolor='purple').add_to(m)\n",
    "CircleMarker(tunnelnodes[ibgt][-1],radius=2,color='purple',fillcolor='purple').add_to(m)\n",
    "names = list(set([e[4] for e in bg if e[0]==ibgt and e[0]==ibgt]))\n",
    "for i,name in enumerate(names):\n",
    "    pt = sorted([e[3] for e in bg if e[0]==ibgt and e[4]==name])\n",
    "    ll = route[name][pt[0]:pt[-1]]\n",
    "    [CircleMarker(l,color=mycolors[i],radius=2,popup=popup(name)).add_to(m) for l in ll]\n",
    "    #folium.PolyLine(ll,color=mycolors[i],tooltip=name,highlight_function=highlight_function).add_to(m)\n",
    "m.fit_bounds(m.get_bounds())\n",
    "m"
   ]
  },
  {
   "cell_type": "code",
   "execution_count": null,
   "metadata": {},
   "outputs": [],
   "source": [
    "ibgt = bgt[5]\n",
    "display(Markdown('# '+tunnels[ibgt]['tags']['name']))\n",
    "names = list(set([e[4] for e in bg if e[0]==ibgt and e[0]==ibgt]))"
   ]
  },
  {
   "cell_type": "code",
   "execution_count": null,
   "metadata": {},
   "outputs": [],
   "source": [
    "m = folium.Map(tiles='OpenStreetMap')\n",
    "folium.PolyLine(tunnelnodes[ibgt],color='red',popup=popup('Tunnel')).add_to(m)\n",
    "CircleMarker(tunnelnodes[ibgt][0],radius=2,color='purple',fillcolor='purple').add_to(m)\n",
    "CircleMarker(tunnelnodes[ibgt][-1],radius=2,color='purple',fillcolor='purple').add_to(m)\n",
    "names = list(set([e[4] for e in bg if e[0]==ibgt and e[0]==ibgt]))\n",
    "for i,name in enumerate(names):\n",
    "    pt = sorted([e[3] for e in bg if e[0]==ibgt and e[4]==name])\n",
    "    ll = route[name][pt[0]:pt[-1]]\n",
    "    [CircleMarker(l,color=mycolors[i],radius=2,popup=popup(name)).add_to(m) for l in ll]\n",
    "    #folium.PolyLine(ll,color=mycolors[i],tooltip=name,highlight_function=highlight_function).add_to(m)\n",
    "m.fit_bounds(m.get_bounds())\n",
    "m"
   ]
  },
  {
   "cell_type": "code",
   "execution_count": null,
   "metadata": {},
   "outputs": [],
   "source": [
    "ibgt = bgt[6]\n",
    "display(Markdown('# '+tunnels[ibgt]['tags']['name']))\n",
    "names = list(set([e[4] for e in bg if e[0]==ibgt and e[0]==ibgt]))"
   ]
  },
  {
   "cell_type": "code",
   "execution_count": null,
   "metadata": {},
   "outputs": [],
   "source": [
    "m = folium.Map(tiles='OpenStreetMap')\n",
    "folium.PolyLine(tunnelnodes[ibgt],color='red',popup=popup('Tunnel')).add_to(m)\n",
    "CircleMarker(tunnelnodes[ibgt][0],radius=2,color='purple',fillcolor='purple').add_to(m)\n",
    "CircleMarker(tunnelnodes[ibgt][-1],radius=2,color='purple',fillcolor='purple').add_to(m)\n",
    "names = list(set([e[4] for e in bg if e[0]==ibgt and e[0]==ibgt]))\n",
    "for i,name in enumerate(names):\n",
    "    pt = sorted([e[3] for e in bg if e[0]==ibgt and e[4]==name])\n",
    "    ll = route[name][pt[0]:pt[-1]]\n",
    "    [CircleMarker(l,color=mycolors[i],radius=2,popup=popup(name)).add_to(m) for l in ll]\n",
    "m.fit_bounds(m.get_bounds())\n",
    "m"
   ]
  },
  {
   "cell_type": "code",
   "execution_count": null,
   "metadata": {},
   "outputs": [],
   "source": [
    "ibgt = bgt[7]\n",
    "display(Markdown('# '+tunnels[ibgt]['tags']['name']))"
   ]
  },
  {
   "cell_type": "code",
   "execution_count": null,
   "metadata": {},
   "outputs": [],
   "source": [
    "m = folium.Map(tiles='OpenStreetMap')\n",
    "folium.PolyLine(tunnelnodes[ibgt],color='red',popup=popup('Tunnel')).add_to(m)\n",
    "CircleMarker(tunnelnodes[ibgt][0],radius=2,color='purple',fillcolor='purple').add_to(m)\n",
    "CircleMarker(tunnelnodes[ibgt][-1],radius=2,color='purple',fillcolor='purple').add_to(m)\n",
    "names = list(set([e[4] for e in bg if e[0]==ibgt and e[0]==ibgt]))\n",
    "for i,name in enumerate(names):\n",
    "    pt = sorted([e[3] for e in bg if e[0]==ibgt and e[4]==name])\n",
    "    ll = route[name][pt[0]:pt[-1]]\n",
    "    [CircleMarker(l,color=mycolors[i],radius=2,popup=popup(name)).add_to(m) for l in ll]\n",
    "m.fit_bounds(m.get_bounds())\n",
    "m"
   ]
  },
  {
   "cell_type": "code",
   "execution_count": null,
   "metadata": {},
   "outputs": [],
   "source": [
    "ibgt = bgt[8]\n",
    "display(Markdown('# '+tunnels[ibgt]['tags']['name']))"
   ]
  },
  {
   "cell_type": "code",
   "execution_count": null,
   "metadata": {},
   "outputs": [],
   "source": [
    "m = folium.Map(tiles='OpenStreetMap')\n",
    "folium.PolyLine(tunnelnodes[ibgt],color='red',popup=popup('Tunnel')).add_to(m)\n",
    "CircleMarker(tunnelnodes[ibgt][0],radius=2,color='purple',fillcolor='purple').add_to(m)\n",
    "CircleMarker(tunnelnodes[ibgt][-1],radius=2,color='purple',fillcolor='purple').add_to(m)\n",
    "names = list(set([e[4] for e in bg if e[0]==ibgt and e[0]==ibgt]))\n",
    "for i,name in enumerate(names):\n",
    "    pt = sorted([e[3] for e in bg if e[0]==ibgt and e[4]==name])\n",
    "    ll = route[name][pt[0]:pt[-1]]\n",
    "    [CircleMarker(l,color=mycolors[i],radius=2,popup=popup(name)).add_to(m) for l in ll]\n",
    "m.fit_bounds(m.get_bounds())\n",
    "m"
   ]
  },
  {
   "cell_type": "code",
   "execution_count": null,
   "metadata": {},
   "outputs": [],
   "source": [
    "ibgt = bgt[9]\n",
    "display(Markdown('# '+tunnels[ibgt]['tags']['name']))"
   ]
  },
  {
   "cell_type": "code",
   "execution_count": null,
   "metadata": {},
   "outputs": [],
   "source": [
    "m = folium.Map(tiles='OpenStreetMap')\n",
    "folium.PolyLine(tunnelnodes[ibgt],color='red',popup=popup('Tunnel')).add_to(m)\n",
    "CircleMarker(tunnelnodes[ibgt][0],radius=2,color='purple',fillcolor='purple').add_to(m)\n",
    "CircleMarker(tunnelnodes[ibgt][-1],radius=2,color='purple',fillcolor='purple').add_to(m)\n",
    "names = list(set([e[4] for e in bg if e[0]==ibgt and e[0]==ibgt]))\n",
    "for i,name in enumerate(names):\n",
    "    pt = sorted([e[3] for e in bg if e[0]==ibgt and e[4]==name])\n",
    "    ll = route[name][pt[0]:pt[-1]]\n",
    "    [CircleMarker(l,color=mycolors[i],radius=2,popup=popup(name)).add_to(m) for l in ll]\n",
    "m.fit_bounds(m.get_bounds())\n",
    "m"
   ]
  },
  {
   "cell_type": "code",
   "execution_count": null,
   "metadata": {},
   "outputs": [],
   "source": [
    "ibgt = bgt[10]\n",
    "display(Markdown('# '+tunnels[ibgt]['tags']['name']))"
   ]
  },
  {
   "cell_type": "code",
   "execution_count": null,
   "metadata": {},
   "outputs": [],
   "source": [
    "m = folium.Map(tiles='OpenStreetMap')\n",
    "folium.PolyLine(tunnelnodes[ibgt],color='red',popup=popup('Tunnel')).add_to(m)\n",
    "CircleMarker(tunnelnodes[ibgt][0],radius=2,color='purple',fillcolor='purple').add_to(m)\n",
    "CircleMarker(tunnelnodes[ibgt][-1],radius=2,color='purple',fillcolor='purple').add_to(m)\n",
    "names = list(set([e[4] for e in bg if e[0]==ibgt and e[0]==ibgt]))\n",
    "for i,name in enumerate(names):\n",
    "    pt = sorted([e[3] for e in bg if e[0]==ibgt and e[4]==name])\n",
    "    ll = route[name][pt[0]:pt[-1]]\n",
    "    [CircleMarker(l,color=mycolors[i],radius=2,popup=popup(name)).add_to(m) for l in ll]\n",
    "m.fit_bounds(m.get_bounds())\n",
    "m"
   ]
  },
  {
   "cell_type": "code",
   "execution_count": null,
   "metadata": {},
   "outputs": [],
   "source": [
    "ibgt = bgt[11]\n",
    "display(Markdown('# '+tunnels[ibgt]['tags']['name']))"
   ]
  },
  {
   "cell_type": "code",
   "execution_count": null,
   "metadata": {},
   "outputs": [],
   "source": [
    "m = folium.Map(tiles='OpenStreetMap')\n",
    "folium.PolyLine(tunnelnodes[ibgt],color='red',popup=popup('Tunnel')).add_to(m)\n",
    "CircleMarker(tunnelnodes[ibgt][0],radius=2,color='purple',fillcolor='purple').add_to(m)\n",
    "CircleMarker(tunnelnodes[ibgt][-1],radius=2,color='purple',fillcolor='purple').add_to(m)\n",
    "names = list(set([e[4] for e in bg if e[0]==ibgt and e[0]==ibgt]))\n",
    "for i,name in enumerate(names):\n",
    "    pt = sorted([e[3] for e in bg if e[0]==ibgt and e[4]==name])\n",
    "    ll = route[name][pt[0]:pt[-1]]\n",
    "    [CircleMarker(l,color=mycolors[i],radius=2,popup=popup(name)).add_to(m) for l in ll]\n",
    "m.fit_bounds(m.get_bounds())\n",
    "m"
   ]
  },
  {
   "cell_type": "code",
   "execution_count": null,
   "metadata": {},
   "outputs": [],
   "source": [
    "ibgt = bgt[11]\n",
    "display(Markdown('# '+tunnels[ibgt]['tags']['name']))"
   ]
  },
  {
   "cell_type": "code",
   "execution_count": null,
   "metadata": {},
   "outputs": [],
   "source": [
    "m = folium.Map(tiles='OpenStreetMap')\n",
    "folium.PolyLine(tunnelnodes[ibgt],color='red',popup=popup('Tunnel')).add_to(m)\n",
    "CircleMarker(tunnelnodes[ibgt][0],radius=2,color='purple',fillcolor='purple').add_to(m)\n",
    "CircleMarker(tunnelnodes[ibgt][-1],radius=2,color='purple',fillcolor='purple').add_to(m)\n",
    "names = list(set([e[4] for e in bg if e[0]==ibgt and e[0]==ibgt]))\n",
    "for i,name in enumerate(names):\n",
    "    pt = sorted([e[3] for e in bg if e[0]==ibgt and e[4]==name])\n",
    "    ll = route[name][pt[0]:pt[-1]]\n",
    "    [CircleMarker(l,color=mycolors[i],radius=2,popup=popup(name)).add_to(m) for l in ll]\n",
    "m.fit_bounds(m.get_bounds())\n",
    "m"
   ]
  },
  {
   "cell_type": "code",
   "execution_count": null,
   "metadata": {},
   "outputs": [],
   "source": [
    "ibgt = bgt[12]\n",
    "display(Markdown('# '+tunnels[ibgt]['tags']['name']))"
   ]
  },
  {
   "cell_type": "code",
   "execution_count": null,
   "metadata": {},
   "outputs": [],
   "source": [
    "m = folium.Map(tiles='OpenStreetMap')\n",
    "folium.PolyLine(tunnelnodes[ibgt],color='red',popup=popup('Tunnel')).add_to(m)\n",
    "CircleMarker(tunnelnodes[ibgt][0],radius=2,color='purple',fillcolor='purple').add_to(m)\n",
    "CircleMarker(tunnelnodes[ibgt][-1],radius=2,color='purple',fillcolor='purple').add_to(m)\n",
    "names = list(set([e[4] for e in bg if e[0]==ibgt and e[0]==ibgt]))\n",
    "for i,name in enumerate(names):\n",
    "    pt = sorted([e[3] for e in bg if e[0]==ibgt and e[4]==name])\n",
    "    ll = route[name][pt[0]:pt[-1]]\n",
    "    [CircleMarker(l,color=mycolors[i],radius=2,popup=popup(name)).add_to(m) for l in ll]\n",
    "m.fit_bounds(m.get_bounds())\n",
    "m"
   ]
  },
  {
   "cell_type": "code",
   "execution_count": null,
   "metadata": {},
   "outputs": [],
   "source": [
    "ibgt"
   ]
  },
  {
   "cell_type": "code",
   "execution_count": null,
   "metadata": {},
   "outputs": [],
   "source": [
    "ibgt = bgt[13]\n",
    "display(Markdown('# '+tunnels[ibgt]['tags']['name']))"
   ]
  },
  {
   "cell_type": "code",
   "execution_count": null,
   "metadata": {},
   "outputs": [],
   "source": [
    "m = folium.Map(tiles='OpenStreetMap')\n",
    "folium.PolyLine(tunnelnodes[ibgt],color='red',popup=popup('Tunnel')).add_to(m)\n",
    "CircleMarker(tunnelnodes[ibgt][0],radius=2,color='purple',fillcolor='purple').add_to(m)\n",
    "CircleMarker(tunnelnodes[ibgt][-1],radius=2,color='purple',fillcolor='purple').add_to(m)\n",
    "names = list(set([e[4] for e in bg if e[0]==ibgt and e[0]==ibgt]))\n",
    "for i,name in enumerate(names):\n",
    "    pt = sorted([e[3] for e in bg if e[0]==ibgt and e[4]==name])\n",
    "    ll = route[name][pt[0]:pt[-1]]\n",
    "    [CircleMarker(l,color=mycolors[i],radius=2,popup=popup(name)).add_to(m) for l in ll]\n",
    "m.fit_bounds(m.get_bounds())\n",
    "m"
   ]
  },
  {
   "cell_type": "code",
   "execution_count": null,
   "metadata": {},
   "outputs": [],
   "source": [
    "ibgt = bgt[14]\n",
    "display(Markdown('# '+tunnels[ibgt]['tags']['name']))"
   ]
  },
  {
   "cell_type": "code",
   "execution_count": null,
   "metadata": {},
   "outputs": [],
   "source": [
    "m = folium.Map(tiles='OpenStreetMap')\n",
    "folium.PolyLine(tunnelnodes[ibgt],color='red',popup=popup('Tunnel')).add_to(m)\n",
    "CircleMarker(tunnelnodes[ibgt][0],radius=2,color='purple',fillcolor='purple').add_to(m)\n",
    "CircleMarker(tunnelnodes[ibgt][-1],radius=2,color='purple',fillcolor='purple').add_to(m)\n",
    "names = list(set([e[4] for e in bg if e[0]==ibgt and e[0]==ibgt]))\n",
    "for i,name in enumerate(names):\n",
    "    pt = sorted([e[3] for e in bg if e[0]==ibgt and e[4]==name])\n",
    "    ll = route[name][pt[0]:pt[-1]]\n",
    "    [CircleMarker(l,color=mycolors[i],radius=2,popup=popup(name)).add_to(m) for l in ll]\n",
    "m.fit_bounds(m.get_bounds())\n",
    "m"
   ]
  },
  {
   "cell_type": "code",
   "execution_count": null,
   "metadata": {},
   "outputs": [],
   "source": []
  }
 ],
 "metadata": {
  "kernelspec": {
   "display_name": "Python 3",
   "language": "python",
   "name": "python3"
  },
  "language_info": {
   "codemirror_mode": {
    "name": "ipython",
    "version": 3
   },
   "file_extension": ".py",
   "mimetype": "text/x-python",
   "name": "python",
   "nbconvert_exporter": "python",
   "pygments_lexer": "ipython3",
   "version": "3.7.2"
  }
 },
 "nbformat": 4,
 "nbformat_minor": 2
}
